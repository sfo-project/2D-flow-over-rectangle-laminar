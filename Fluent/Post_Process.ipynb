{
 "cells": [
  {
   "cell_type": "markdown",
   "metadata": {},
   "source": [
    "# CFD Results Post-Process & Validation\n",
    "\n",
    "**The final step for the development of a CFD simulation for a problem of interest is to process and examine the validity of the obtained numerical results (a.k.a post-processing and validation step). These steps requires an in-depth engineering knowledge about the fundamentals of the physical problem of interest. Thus, the value of investing time in understanding the fundamental physics of the flow, once again is highlighted here. This process is done starting from general inspection on CFD simulation results and ends with more detail validation process.**\n",
    "\n",
    "In this section the results for simulation of flow over a rectangle with Reynolds of 50 will be presented, discussed and experimentally validated. It should be noted that the post-processing and validation of all simulations with different Reynolds numbers would be similar to the presented procedure here. The first general rule of thumb to check the convergence of a CFD simulation is to visualize the residuals of key flow field variables, such as continuity and velocity. In FLUENT once user starts to run the simulation, the Residual values for the relative variables, based on the choices of models, are visualized in the solver window. Furthermore, users can manage details of the plotted residuals or add other residuals to be visualized via <span style=style=\\\"background-color:lightgrey;\\\">plot/residuals</span>.\n",
    "\n",
    "<img src=\"./Images/Fig1.jpg\" width=\"1000\">\n",
    "\n",
    "Fig. 1 - Residuals of continuity and velocity for simulation of flow over a rectangle with Re=50.\n",
    "\n",
    "Fig. 1 visualizes the residual values of continuity and velocity in x and y direction versus the number of iterations. The general decreasing trend of the residual values confirms that the numerical solution of the conservation/governing equations are converging to specific final values. As a rule of thumb reaching the continuity residual of 1E-4 is the first necessary but not sufficient general criteria to confirm the convergence of the CFD simulation. In this study case this criteria is reached after about 1000 iterations and after about 2200 iterations the continuity residuals reached value of 1E-5, which is a solid necessary confirmation of CFD simulation convergence. Users can also define criteria to stop the iteration process once the desired criteria is met during the iteration process. For the case study of Re=50 the iterations were stopped after the residuals reached 1E-7.\n",
    "In addition to the velocity and continuity residuals, drag coefficient value is plotted and shown in Fig. 2. The drag coefficient value is initially high but reduces further to a constant value of 1.657, which again confirm the initial convergence trend of the obtained numerical. More, post-processing and validation steps are needed to confirm the convergence of the obtained numerical solution. \n",
    "\n",
    "<img src=\"./Images/Fig2.jpg\" width=\"1000\">\n",
    "\n",
    "Fig. 2 - Drag coefficient residual.\n",
    "\n",
    "The second step is to visualize dimensionless form of the important variables within the CFD domain. This visualization step can be problem specific and should be performed over an adequate plane of choice. For most of the problems contour of normalized velocity or pressure, over a horizontal or vertical plane at the center of the CFD domain, is a good start point. The path to define an adequate visualization probe such as planes or lines is <span style=style=\\\"background-color:lightgrey;\\\">surface/plane-bounded</span>. With this path a user can define various type of surface probes to visualize the obtained numerical results over them. However, for the current problem since the entire domain is two dimensional and planar, it would make the entire domain the best candidate for the post-processing plane.\n",
    "\n",
    "The normalized streamwise velocity by the inlet velocity can be defined using <span style=style=\\\"background-color:lightgrey;\\\">define/custom-field-functions/define</span>, name the variable (e.g. normalized_streamwise_velocity)and put the required formula for the variable of interest with correct syntax under <span style=style=\\\"background-color:lightgrey;\\\">x_velocity/1</span>. This will define and calculate the normalized streamwise velocity with free stream velocity within entire CFD domain. It order to visualize the defined normalized flow field variable in the previous step users should use <span style=style=\\\"background-color:lightgrey;\\\">display/contour/normalized_streamwise_velocity</span> and set the range of [0,1.2] to visualize the normalized velocity contours and it's legend as shown in Fig. 3.\n",
    "\n",
    "<img src=\"./Images/Fig3.jpg\" width=\"500\">\n",
    "\n",
    "Fig.3 - Contours of normalized streamwise velocity with the free stream velocity over a rectangle for various Reynolds numbers.\n",
    "\n",
    "Flow enters the domain with normalized velocity of $1~\\frac{m}{s}$. Due to the imposed no slip boundary conditions over the surface of rectangle, the velocity instantly decrease to zero on the nose of the rectangle and a laminar boundary layer starts to form and grow around the rectangle's surface. Moving slightly further downstream at the top and bottom edges of the rectangle, where the formed laminar boundary layer is exposed to the free stream velocity, a shear layer will form and results in to an accelerated flow region, colored with dark red, at these two points. These two accelerated regions can be though as continues and attached vortices to the rectangle's surface. Since the body of rectangle, as a blunt body, is blocking the incoming flow a decelerated region of flow would form right at the back of the rectangle. This area is the place in which the flow recirculates and two counter rotating vortices, as a result of flow moving over the top and bottom curved surfaces of rectangle, would form here. At low Reynolds number this region will stay attached to the rectangle. Moving further downstream the rectangle, as a result of a momentum gradient between the formed shear layer at the top and bottom edges of the rectangle and the recirculation zone behind the rectangle, a wake with velocity deficit is created and is shown by light green color. Moving further downstream and getting closer to the outlet boundary this wake recovers and the velocity become very close to the freestream velocity at the inlet of the CFD domain.\n",
    "\n",
    "Comparison between obtained numerical results for the normalized velocity contours for different Reynolds number reveals that as Reynolds number increases, effect of inertial forces become dominant within the flow field, the area of recirculation region just behind the rectangle, shown in blue, and local acceleration on top of bottom of the rectangle increases. This lead into a large momentum gradient between these two regions and eventually unsteady vortex shedding from the rectangle (i.e. around Re=100). This unsteady phenomena is a well-known physical process that can be investigated using unsteady numerical models.\n",
    "After performing the general post-processing steps, the user need to perform more detail oriented post-processing to confirm the validity of the CFD simulation. This stage can be a state-of-the-art. Comparing the numerical results against the theory (discussed earlier) or any other available experimental results is the final stage of post-processing. It is extremely important to calculate the correct corresponding numerical variables and compare them against the experimental or other numerical data.\n",
    "In order to validate the numerical results from these simulations the numerically predicted drag coefficients of the rectangle were compared against the corresponding experimentally measure drag coefficient values. The reason behind choosing the drag coefficient is that the rectangle is significantly affected by the pressure forces acting on the body of rectangle and generating a wake behind the rectangle. It is worth to mention that in the laminar flows the effect of viscous forces on the drag force and coefficient on the rectangle is minimum.\n",
    "\n",
    "The value of the drag coefficient of the rectangle is defined as:\n",
    "\n",
    "$$C_D= \\frac{F_D}{\\frac{1}{2}.\\rho_{ref}.{V^2}_{ref}.A_{proj}}$$\n",
    "\n",
    "In this equation $F_D$, the total drag force due to pressure and viscous forces within the flow acting on the rectangle's surface in the streamwise direction, is normalized with the available momentum within the undisturbed incoming flow that could be exerted on the rectangle. The value of this momentum is calculated using $\\rho_{ref}$ as the reference density of the flow, $V_{ref}$ as the undisturbed streamwise flow velocity in the inlet and $A_{proj}$ as the projected area of the rectangle surface. For a two-dimensional rectangle, the projected area is equal to the width of the rectangle multiplied by 1 unit of thickness. This is the area where pressure and viscous forces are acting on the rectangle in the streamwise direction. It should be noted that the pressure and viscous forces in the perpendicular direction to streamwise direction cancel each other. Hence, the forces and areas that they act on does not have any contribution to the drag force and coefficient.\n",
    "\n",
    "Users can calculate and report the value of drag coefficient following the path of <span style=style=\\\"background-color:lightgrey;\\\">report\\forces\\wall-forces</span>. Running this command in the console will ask for the direction of the force, which is x-direction in this case. Users should note that this command uses default reference variables to calculate the force coefficients. Therefore, it should be confirmed that the reference values are set correctly. This setting can be done using <span style=style=\\\"background-color:lightgrey;\\\">report/reference-values</span> path and set the corresponding reference values for each variable as mentioned above and discussed extensively in the Physics section.  Fig. 4 shows the estimated drag forces for different Reynold's number and corresponding drag coefficients. The evolution of drag coefficient values as a function of Reynolds number is visualized in Fig. 5.\n",
    "\n",
    "<img src=\"./Images/fig5 table Re-CD.png\" width=\"500\">\n",
    "\n",
    "Fig 5: Drag forces results\n",
    "\n",
    "<img src=\"./Images/fig4 Re-CD.png\" width=\"500\">\n",
    "\n",
    "Fig 5: Reynold's number and drag coefficient graph\n",
    "\n",
    "Due to low Reynolds number of this case study the number of available experimental and numerical is very limited. The only obtained publicly available data is a doctoral dissertation by Nathan Steggel[1]. Steggel investigated flow over a rectangular cylinder with multiple diameter and length ratios, that can be extended to the case of two dimensional rectangle geometry used in the current case study. Therefore, the estimated drag coefficient found in the numerical work of Steggel[1] is used for comparison of obtained numerical results. Fig. 6 shows the numerically estimated drag coefficient values as a function of Reynolds number for different cylinder sized by Steggel[1]. In this plot $B$ is the length of the cylinder and $A$ is the diameter of the cylinder.\n",
    "\n",
    "<img src=\"./Images/fig6 research result.png\" width=\"1000\">\n",
    "\n",
    "Fig 6: Reynold's number and Drag coefficient for multiple cylinder geometry.\n",
    "\n",
    "Fig. 7 shows the comparison between the obtained numerical data from the current case study and Steggel work[1]. For the first three low Reynolds number values the value of relative error is below 2%. However, as the Reynolds number value increases from 600 to 1000, the relative error between the presented results increases up to 31.3%. Our hypothesis for this difference is that at higher Reynolds number the effect of inertial forces become more significant and the flow becomes unsteady. Therefore, the used steady model in this case study can not estimate the value of the drag coefficient correctly. It is assumed that in the work of Steggel [1] this effect was captured correctly. A good check point is to repeat this case study using an unsteady solver and estimate the mean drag coefficient values as a function of Reynolds number.\n",
    "\n",
    "<img src=\"./Images/fig7 percent error.png\" width=\"500\">\n",
    "\n",
    "Fig 7: Comparison between the numerically estimated drag coefficient from the current simulations and Steggel Ph.D. thesis.\n",
    "\n",
    "At this stage one can conclude that this CFD numerical simulation is validated to study steady laminar flow over a cylinder upto Reynolds number of 300. Therefore, these simulations can be used as the base case study for similar or more complex problems, such as unsteady flow over a cylinder or three dimensional laminar steady or unsteady flow over a sphere. This can be done via correct implementation in changing the corresponding solver, models and/or boundary conditions."
   ]
  },
  {
   "cell_type": "code",
   "execution_count": null,
   "metadata": {
    "collapsed": true
   },
   "outputs": [],
   "source": []
  }
 ],
 "metadata": {
  "kernelspec": {
   "display_name": "Python 3",
   "language": "python",
   "name": "python3"
  },
  "language_info": {
   "codemirror_mode": {
    "name": "ipython",
    "version": 3
   },
   "file_extension": ".py",
   "mimetype": "text/x-python",
   "name": "python",
   "nbconvert_exporter": "python",
   "pygments_lexer": "ipython3",
   "version": "3.5.2"
  }
 },
 "nbformat": 4,
 "nbformat_minor": 0
}
