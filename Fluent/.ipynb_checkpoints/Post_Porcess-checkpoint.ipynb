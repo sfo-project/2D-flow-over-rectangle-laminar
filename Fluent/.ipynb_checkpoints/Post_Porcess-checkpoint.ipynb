{
 "cells": [
  {
   "cell_type": "markdown",
   "metadata": {},
   "source": [
    "# CFD Results Post-Process & Validation\n",
    "\n",
    "< copy and paste the two below paragraphs on top of your Post_Process file. Remove this guideline after that. >\n",
    "\n",
    "**The final step for the development of a CFD simulation for a problem of interest is to process and examine the validity of the obtained numerical results (a.k.a post-processing and validation step). These steps requires an in-depth engineering knowledge about the fundamentals of the physical problem of interest. Thus, the value of investing time in understanding the fundamental physics of the flow, once again is highlighted here. This process is done starting from general inspection on CFD simulation results and ends with more detail validation process.**\n",
    "\n",
    "\n",
    "# General Recommended Structure for Writing Post_Process File\n",
    "\n",
    "Below is the recommended general structure to develop the Post_Process file for the flow of interest. Please note that we are always open to new ideas and modifying the structure below. Thus, do not limit yourself to the following structure and feel free to implement your suggestion and changes. We can modify this structure based on new feedback.\n",
    "\n",
    "#### 1- Start with visualization of the residuals for most important variables within the flow field (e.g. continuity, streamwise velocity and etc.). Discuss how user should examine the residuals trends to comment on accuracy and convergence of the flow field's simulation. \n",
    "#### 2- Explain how to visualize the contours of important normalized flow field variables (e.g. normalized velocity, pressure and etc.) on one or multiple sections of the CFD domain. Present figure(s) of visualized variable contours. \n",
    "#### 3- Present a detail discussion on details of the presented results and link your discussion to the previously explained physics of the flow field and expected results in Physics section.\n",
    "#### 4- Validate your simulation results via presenting a detail comparison between CFD simulation results and corresponding experimental or other numerical results. Please have in mind that the goal here is not to sell your simulation results. The goal is to highlight the limitations and capabilities of the CFD simulations and used CFD package and code.\n",
    "#### 5- Conclude the post-processing and validation with a last conclusive paragraph highlighting the pros and cons of the CFD simulations.\n",
    "#### 6- Cite the source(s) that you have used for writing the content of your Domain file considering the copy right rules.  Make sure to cite the sources you use or refer to within the body of the text as well as in the end!\n",
    "\n",
    "# Handy Commands for Writing the Physics file: \n",
    "\n",
    "## Insert a Figure\n",
    "\n",
    "```\n",
    "<img src=\"./Images/sample.jpg\" width=\"500\">\n",
    "</br>\n",
    "Fig. 1 - The caption for the image goes here.\n",
    "```\n",
    "\n",
    "<img src=\"./Images/sample.jpg\" width=\"500\">\n",
    "</br>\n",
    "Fig. 1 - The caption for the image goes here.\n",
    "\n",
    "## Write an Equation\n",
    "\n",
    "### Within Text Body\n",
    "Use single `$ <equation> $` symbol to put and equation (e.g. ```$y = \\delta ~,~ u = 0.99 ~U_e .$```) within the text body.\n",
    "\n",
    "Use single `$ <equation> $` symbol to put and equation (e.g. $y = \\delta ~,~ u = 0.99 ~U_e .$) within the text body.\n",
    "\n",
    "### Standalone\n",
    "```\n",
    "Use double `$$ <equation> $$` symbol to put equation in standalone format in the center of the page:\n",
    "\n",
    "$$\n",
    "\\mathbf{R_{ext}} + \\mathbf{F_v} -\n",
    "\\int \\mathbf{n}~p~dA +\n",
    "\\int \\rho \\mathbf{g}~dV = \n",
    "\\frac{\\partial}{\\partial t} \\int \\rho \\mathbf{V} dV +\n",
    "\\int (\\mathbf{n}~.~\\rho \\mathbf{V}) \\mathbf{V} dA .\n",
    "$$\n",
    "```\n",
    "\n",
    "Use double `$$ <equation> $$` symbol to put equation in standalone format in the center of the page:\n",
    "\n",
    "$$\n",
    "\\mathbf{R_{ext}} + \\mathbf{F_v} -\n",
    "\\int \\mathbf{n}~p~dA +\n",
    "\\int \\rho \\mathbf{g}~dV = \n",
    "\\frac{\\partial}{\\partial t} \\int \\rho \\mathbf{V} dV +\n",
    "\\int (\\mathbf{n}~.~\\rho \\mathbf{V}) \\mathbf{V} dA .\n",
    "$$\n",
    "\n",
    "\n",
    "## Cite Source(s)\n",
    "```\n",
    "> For more details on the physics, theory and equation derivation please see chapter 9, section 9.2 of \"A Physical Introduction to Fluid Mechanics by Alexander J. Smits\" 2nd edition. [Download Book Here!](http://www.efluids.com/efluids/books/efluids_books.htm)\n",
    "```\n",
    "\n",
    "> For more details on the physics, theory and equation derivation please see chapter 9, section 9.2 of \"A Physical Introduction to Fluid Mechanics by Alexander J. Smits\" 2nd edition. [Download Book Here!](http://www.efluids.com/efluids/books/efluids_books.htm)"
   ]
  },
  {
   "cell_type": "code",
   "execution_count": null,
   "metadata": {
    "collapsed": true
   },
   "outputs": [],
   "source": []
  }
 ],
 "metadata": {
  "kernelspec": {
   "display_name": "Python 3",
   "language": "python",
   "name": "python3"
  },
  "language_info": {
   "codemirror_mode": {
    "name": "ipython",
    "version": 3
   },
   "file_extension": ".py",
   "mimetype": "text/x-python",
   "name": "python",
   "nbconvert_exporter": "python",
   "pygments_lexer": "ipython3",
   "version": "3.5.1"
  }
 },
 "nbformat": 4,
 "nbformat_minor": 0
}
