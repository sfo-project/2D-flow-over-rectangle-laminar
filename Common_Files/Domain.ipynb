{
 "cells": [
  {
   "cell_type": "markdown",
   "metadata": {},
   "source": [
    "# CFD Domain's Creation & Discretization\n",
    "\n",
    "** The next step for developing the CFD simulation for a case study, after the review of physics and theory behind the problem of interest, is to create the CFD/Computational domain. This CFD domain will first be created and then discretized into small finite elements (2D) or finite volumes (3D). The flow field's governing equations are then solved numerically inside these finite elements or volumes via an iterative process till a converged solution inside the entire CFD domain is obtained. It should be highlighted that this section provides the most generic steps and techniques to create and discretize the CFD domain. Users can implement these steps/techniques in the mesher of their choice or download the pre-generated * .msh file from the \"Simulation_Src\" folder. **\n",
    "\n",
    "> **_In simple words: Current tutorial teaches users to fish, rather than giving them a fish._**\n",
    "\n",
    "The CFD domain for the 2D laminar flow over a rectangle is chosen to be a finite two dimensional square with sides of 20 [m] as shown in Fig. 1. The rectangle of interest, which the fluid dynamics around it needs to be simulated, is located in the center of the square with 1 [m] width and 2 [m] length. These dimensions would result into a geometrical factors of $\\frac{L}{l}=20$ and $\\frac{L}{w}=10$ where $L$ is length of the CFD domain and $w$ and $l$ are rectangle's width and length respectively. These two geometrical factors would remove potential blockage effect on the simulated flow field around the rectangle. If blockage effect is a variable of interest the value of these geometrical factors can be reduced. Furthermore, the shape and dimensions of the domain are chosen such that the required number of mesh elements can be controlled and non-dimensional groups of variables (i.e. Reynolds number) can be estimated fast, while most of variables are set to be equal unity. The users can define the dimensions of the CFD domain according to their own problem definition.\n",
    "\n",
    "<img src=\"./Images/Fig1.jpg\" width=\"500\">\n",
    "\n",
    "Fig.1 - The raw geometry of CFD domain, a rectangle inside a large square, for the two dimensional laminar flow over a rectangle. Note multiple sub-sections for control of the mesh resolution.\n",
    "\n",
    "To create the raw geometry of the visualized CFD domain in Fig. 1, it is recommended to start with creating a rectangle with width of 1 [m] and length of 2 [m] in the center of the domain, where the origin of coordinates is located. Then with respect to the same origin, create a square of 20 [m] edge length, which will be the fluid domain. \n",
    "In majority of available tutorials users are recommended to mesh the entire domain in a one step at this stage! This might result into a quick and preliminary meshed CFD domain, however it probably lead into poor numerical results and miss-lead users in case of divergence of the simulations, hence it is highly discouraged! The recommended step is discretization of the raw geometry into sub-domains with smooth interface and high quality mesh-ability potential. To apply mesh size control over the created domain, smaller rectangular shape sub-sections are created around the central rectangle as shown in Fig. 1. Methodological mesh size control allow users to vary the quality of the mesh in any area of interest according to the computational needs and goals. For example in case of obtaining poor numerical results with the initial coarse mesh around the central rectangle, users can easily increase the mesh resolution around rectangle and re-run the simulations. Furthermore, creating the mesh size control would provide the option of creating coarse mesh in areas that the flow field is no complicated for the case study of interest such as inlet, outlet and domain walls in this case study. \n",
    "\n",
    "Once the raw geometry and sub-geometries of the CFD domain are created, it should be discretized into finite elements/volumes (a.k.a meshing procedure). In simple words, meshing is the process of \"chopping\" the geometry of the CFD domain into smaller finite elements and/or volumes, wherein the flow field's governing equations will be solved numerically. High quality mesh elements, with reasonable aspect ratio, would lead to a smoother and more promising numerical solution. Therefore, it is important to increase the quality and level of controllability in the CFD domain at the first step by proper meshing and topology techniques.\n",
    "\n",
    "The rule of thumb is to have a high mesh resolution close to the rectangle area where the flow field behavior is complex due to formation of boundary layer. These areas are highlighted in Fig. 2. Then mesh resolution is gradually decreased toward the outer regions where the flow field physics and behavior are rather simple and capturing them numerically would be straight forward. For even more complex flow field such as turbulent boundary layer there are specific techniques and guidelines to set the mesh resolution around the rectangle's wall, which will be introduced in other case studies as needed. Using the current approach one created a well-defined CFD domain geometry with high mesh resolution close to rectangle's boundary, where the physics of the flow are more complex (i.e. boundary layer region) and gradually decreased it to bounds of the domain, where flow field is uniform and simple.\n",
    "\n",
    "<img src=\"./Images/Fig2.jpg\" width=\"500\">\n",
    "Fig.2: The regions chosen to refine the mesh.\n",
    "\n",
    "To be able to fully capture the wake of the flow, the main boundary environment was set to be a square of $8 [m]$ with the rectangle centered in the middle. The inlet and outlet slender rectangles were set to have the width of 1m and cover the whole length of the flow environment, their purpose is to accurately capture the eddy effect of the flow after passing the rectangle. Figure 2 shows the highlighted boundaries for the mesh. The element size chosen to refine the mesh was $25 [mm]$ in the main boundary and the inlet and outlet slender rectangles, which leads to 80 elements along the length and 40 elements along the width of the rectangle. Fig. 4 shows the zoom in view of the meshed region aroud the central rectangle.  The  It is worth noting that the two slender rectangles on the left should have been coarsely meshed, because the inlet flow is uniform, thus more calculation in those two inlet region is redundant. The chosen element type is square element because based on experience, they have low computational cost and more accurate compared to triangle elements. Fig.3 shows the fully meshed CFD domain.\n",
    "\n",
    "\n",
    "<img src=\"./Images/Fig3.jpg\" width=\"500\">\n",
    "Fig.3: Overall view of the mesh.\n",
    "\n",
    "<img src=\"./Images/Fig4.jpg\" width=\"500\">\n",
    "Fig.4: A zoom in view of the fine meshed regions.\n",
    "\n",
    "As it is shown in zoom-in view of Fig. 4 and the overall view in Fig.3, the used meshing algorithm provided a high mesh resolution around the rectangle and decreases it moving farther from it. At this stage one can see that how using a set of pre-defined sub geometry helped having a structured and well-controlled mesh. Upon requirement for increasing the mesh resolution around the rectangle user can simply redefine the value of element size or element type to have a desired element distribution as well as triangle or quad mesh.\n",
    "\n",
    "Once the mesh is generated it's quality should be examined. This can be done using the provided features and functions defined in the meshing software. In general these functions calculate the aspect ratio of each elements and report a statistical report on them. The goal is to keep the average aspect ratio close to 1 for a very high quality mesh. In this stage the CFD domain is completely meshed and is ready to be setup for a CFD simulation."
   ]
  },
  {
   "cell_type": "code",
   "execution_count": null,
   "metadata": {
    "collapsed": true
   },
   "outputs": [],
   "source": []
  }
 ],
 "metadata": {
  "kernelspec": {
   "display_name": "Python 3",
   "language": "python",
   "name": "python3"
  },
  "language_info": {
   "codemirror_mode": {
    "name": "ipython",
    "version": 3
   },
   "file_extension": ".py",
   "mimetype": "text/x-python",
   "name": "python",
   "nbconvert_exporter": "python",
   "pygments_lexer": "ipython3",
   "version": "3.5.1"
  }
 },
 "nbformat": 4,
 "nbformat_minor": 0
}
