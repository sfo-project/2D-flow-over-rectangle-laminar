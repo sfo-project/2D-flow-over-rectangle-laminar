{
 "cells": [
  {
   "cell_type": "markdown",
   "metadata": {},
   "source": [
    "# CFD Problem's Physics & Theory\n",
    "\n",
    "**In developing CFD simulation for a fluid mechanics problem understanding the general physics and fundamental theory of the problem is extremely important. This knowledge would provide user the ability to make logical decision about the geometry of CFD domain, choice of proper boundary conditions and numerical models for the CFD simulation setup. Furthermore, user will have a general big picture of the expected results from simulation. These knowledges and abilities form the foundation for a successful and accurate implementation and possibly validation of the CFD simulation.**\n",
    "\n",
    "**In other words understanding physics and theory of problem before developing a CFD simulation can be thought of turning on a flash light prior to taking any step in a completely dark room. Hence, let's review the fundamental physics and theory behind the problem of \"2D Laminar Flow over a rectangular plate.\" as the first step for development and validation of CFD simulation.**\n",
    "\n",
    "\n",
    "<img src=\"./Images/flow.jpg\" width=\"500\">\n",
    "\n",
    "                 Fig. 1 - The visuallization of flow over a rectangle.\n",
    "\n",
    "### Conservation of momentum\n",
    "\n",
    "The equation for conservation of momentum is used to obtain a general understanding about the interaction between the flow and the rectangle. There are two force components acting on the rectangular body. One force component is in the stream wise direction and is called the Drag Force. The other component is perpendicular to the flow direction and is called the Lift Force (i.e. flow tries to lift-up the body). Theoretically, because the angle of attack between the flow and the rectangle’s top and bottom region is zero degree, thus there is no lift force. Even if there is lift force from the top and bottom region of the plate, they would cancel out due to symmetrical condition. Therefore, the net lift force on the rectangle will always be equal to zero. However, there will be a significant drag force on the rectangle walls as a result of it's interaction with the flow. To obtain an estimate for this drag force acting on the rectangle, one can consider the conservation of momentum in stream wise direction. The general form of conservation of momentum equation applied to the defined control volume showed in Fig.2 is as follows:\n",
    "\n",
    "$$Rext+Fv−∫n p dA+∫ρg dV=∂∂t∫ρVdV+∫(n . ρV)VdA$$\n",
    "\n",
    "In the above equation assuming that the effect of viscous forces within the flow (Fv) are negligible within the control volume around the rectangle, neglecting body forces and assuming a steady state flow, Rext, $∫ρgdV$ and $∂∂t∫ρVdV$ in the above equation will become zero respectively. Furthermore, since the surfaces of the inflow and outflow within the control volume are far from the rectangle one can conclude the pressure would be constant and in the opposite directions on the surfaces of control volume. Applying of all these assumptions to the conservation of momentum equation will result in:\n",
    "\n",
    "$$Rext=∫(n . ρV)VdA$$\n",
    "\n",
    "This equation shows that the total drag force on the rectangle is equal to the change of momentum between the incoming and outgoing flow from the boundaries of the defined control volume. It should be noted that this equation is based on the assumption that the boundaries of the defined control volume are far from the rectangle body. Therefore, the effect of pressure forces on the drag force are indirectly reflected through changes in velocity.\n",
    "\n",
    "### Dimensional analysis\n",
    "\n",
    "The control volume analysis concludes that the drag force on the rectangle in a function of the fluid density, the area of interaction and the velocity of the flow. Although this conclusion is important, it reflect a complex dependency including multiple variables. Performing dimensional analysis on the flow over a rectangle immersed in a flow of a constant velocity, one can reduce this complex dependency in a simpler format. Starting the dimensional analysis and using the previous developed understandings it can be showed that the drag force acting on the rectangle is a function of following flow variables:\n",
    "\n",
    "$$FD=f (d,μ,ρ,V)$$\n",
    "\n",
    "where d is the dimension of the rectangle, μ and ρ are the viscosity and density of the fluid. As there are 5 variables and 3 reference dimensions (i.e., Mass, Length, Time), two non-dimensional groups (i.e. Π groups) are needed to fully define the flow field. Performing dimensional analysis result in two following non-dimensional groups:\n",
    "\n",
    "$$Π1=ρVdμΠ1=ρVdμ$$\n",
    "\n",
    "$$Π2=FDd2ρV2Π2=FDd2ρV2$$\n",
    "\n",
    "Therefore, as shown previously using control volume analysis, it can be concluded the drag force on the rectangle is a function of velocity field through an unknown function ϕ as follows:\n",
    "\n",
    "$$FDd2ρV2=ϕ(ρVdμ)FDd2ρV2=ϕ(ρVdμ)$$\n",
    "\n",
    "The left hand side of this equation is the non-dimensional drag force and referred to as the drag force coefficient. The right hand side of this equation is the ratio of inertial forces to the viscous forces within the flow, which is known as Reynolds number. This outcome of the dimensional analysis confirms that the drag force on the rectangle in a uniform flow is a direct function of Reynolds number. Therefore, majority of scientists investigating on this flow field look at the variation of these two variables to find the function ϕ.\n",
    "\n",
    "$$CD=ϕ(Re)$$\n",
    "\n",
    "In this equation CD, the total coefficient of the drag force due to pressure and viscous forces within the flow acting on the rectangle's surface in the stream wise direction. This coefficient is the normalized drag force component with the available momentum in the undisturbed incoming flow that could be exerted on the rectangle. The value of this momentum is calculated using ρ as the reference density of the flow, which is the density of the flow. V as the undisturbed flow velocity in the inlet and d is the diameter of the rectangle surface. In some formulation and books the term d2 is replaced with A as the projected area of the rectangle. For a two-dimensional rectangle the projected area is equal to the diameter of the rectangle. This is the area where pressure and viscous forces are acting on the rectangle in the stream wise direction. It should be reminded that the pressure and viscous forces in the perpendicular direction to the flow direction cancel each other. Hence, the forces and areas that they act on does not have any contribution to the drag force and coefficient.\n",
    "\n",
    "As shown in the above discussion the velocity field and drag force are the most important variables of interest in the case study of flow over rectangle. Although this analysis provide detail understanding about the flow field, however is limited in providing the detail of evolution of flow field variables. Furthermore, it includes multiple simplified assumptions in it. This is particularly true if one want to reach a high accuracy, let along dealing with some more complex flow field condition. This is when Computational Fluid Dynamics (CFD) comes into play. With the help of CFD, one can divide the area of interest into multiple small control volumes, called meshes elements, and obtain exact flow field variables. With this general and detail theoretical knowledge about the flow field in the next sections it will be discuss how one can move forward to initiate developing the CFD domain and simulations for this problem of this flow field of interest.\n",
    "\n",
    "\n",
    "\n",
    "## Cite Source(s)\n",
    "\n",
    "> For more details on the physics, theory and equation derivation please see chapter 9, section 9.2 of \\\"A Physical Introduction to Fluid Mechanics by Alexander J. Smits\\\" 2nd edition. [Download Book Here!](http://www.efluids.com/efluids/books/efluids_books.htm)\n",
    "\n",
    "\n"
   ]
  },
  {
   "cell_type": "code",
   "execution_count": null,
   "metadata": {
    "collapsed": true
   },
   "outputs": [],
   "source": []
  }
 ],
 "metadata": {
  "kernelspec": {
   "display_name": "Python 3",
   "language": "python",
   "name": "python3"
  },
  "language_info": {
   "codemirror_mode": {
    "name": "ipython",
    "version": 3
   },
   "file_extension": ".py",
   "mimetype": "text/x-python",
   "name": "python",
   "nbconvert_exporter": "python",
   "pygments_lexer": "ipython3",
   "version": "3.5.1"
  }
 },
 "nbformat": 4,
 "nbformat_minor": 0
}
